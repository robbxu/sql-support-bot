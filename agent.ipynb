{
 "cells": [
  {
   "cell_type": "markdown",
   "id": "d9d1a28b-c2a1-4246-b1c2-c58d6938f798",
   "metadata": {},
   "source": [
    "# SQL Support Bot\n"
   ]
  },
  {
   "cell_type": "markdown",
   "id": "481fe554-d299-4baf-b3a5-6a56b9348a10",
   "metadata": {},
   "source": [
    "## Install Dependencies"
   ]
  },
  {
   "cell_type": "code",
   "execution_count": 1,
   "id": "3641c5af-be3f-451d-91de-089f2ea69ecd",
   "metadata": {
    "scrolled": true
   },
   "outputs": [
    {
     "name": "stdout",
     "output_type": "stream",
     "text": [
      "Requirement already satisfied: langgraph in ./.venv/lib/python3.13/site-packages (0.3.21)\n",
      "Collecting langgraph\n",
      "  Downloading langgraph-0.3.22-py3-none-any.whl.metadata (7.7 kB)\n",
      "Requirement already satisfied: langchain-openai in ./.venv/lib/python3.13/site-packages (0.3.11)\n",
      "Requirement already satisfied: langchain-community in ./.venv/lib/python3.13/site-packages (0.3.20)\n",
      "Requirement already satisfied: scikit-learn in ./.venv/lib/python3.13/site-packages (1.6.1)\n",
      "Requirement already satisfied: langgraph-checkpoint-sqlite in ./.venv/lib/python3.13/site-packages (2.0.6)\n",
      "Requirement already satisfied: python-dotenv in ./.venv/lib/python3.13/site-packages (1.1.0)\n",
      "Requirement already satisfied: nest-asyncio in ./.venv/lib/python3.13/site-packages (1.6.0)\n",
      "Requirement already satisfied: asyncio in ./.venv/lib/python3.13/site-packages (3.4.3)\n",
      "Requirement already satisfied: langchain-core<0.4,>=0.1 in ./.venv/lib/python3.13/site-packages (from langgraph) (0.3.49)\n",
      "Requirement already satisfied: langgraph-checkpoint<3.0.0,>=2.0.10 in ./.venv/lib/python3.13/site-packages (from langgraph) (2.0.23)\n",
      "Requirement already satisfied: langgraph-prebuilt<0.2,>=0.1.1 in ./.venv/lib/python3.13/site-packages (from langgraph) (0.1.7)\n",
      "Requirement already satisfied: langgraph-sdk<0.2.0,>=0.1.42 in ./.venv/lib/python3.13/site-packages (from langgraph) (0.1.60)\n",
      "Requirement already satisfied: xxhash<4.0.0,>=3.5.0 in ./.venv/lib/python3.13/site-packages (from langgraph) (3.5.0)\n",
      "Requirement already satisfied: openai<2.0.0,>=1.68.2 in ./.venv/lib/python3.13/site-packages (from langchain-openai) (1.69.0)\n",
      "Requirement already satisfied: tiktoken<1,>=0.7 in ./.venv/lib/python3.13/site-packages (from langchain-openai) (0.9.0)\n",
      "Requirement already satisfied: langchain<1.0.0,>=0.3.21 in ./.venv/lib/python3.13/site-packages (from langchain-community) (0.3.21)\n",
      "Requirement already satisfied: SQLAlchemy<3,>=1.4 in ./.venv/lib/python3.13/site-packages (from langchain-community) (2.0.40)\n",
      "Requirement already satisfied: requests<3,>=2 in ./.venv/lib/python3.13/site-packages (from langchain-community) (2.32.3)\n",
      "Requirement already satisfied: PyYAML>=5.3 in ./.venv/lib/python3.13/site-packages (from langchain-community) (6.0.2)\n",
      "Requirement already satisfied: aiohttp<4.0.0,>=3.8.3 in ./.venv/lib/python3.13/site-packages (from langchain-community) (3.11.14)\n",
      "Requirement already satisfied: tenacity!=8.4.0,<10,>=8.1.0 in ./.venv/lib/python3.13/site-packages (from langchain-community) (9.0.0)\n",
      "Requirement already satisfied: dataclasses-json<0.7,>=0.5.7 in ./.venv/lib/python3.13/site-packages (from langchain-community) (0.6.7)\n",
      "Requirement already satisfied: pydantic-settings<3.0.0,>=2.4.0 in ./.venv/lib/python3.13/site-packages (from langchain-community) (2.8.1)\n",
      "Requirement already satisfied: langsmith<0.4,>=0.1.125 in ./.venv/lib/python3.13/site-packages (from langchain-community) (0.3.19)\n",
      "Requirement already satisfied: httpx-sse<1.0.0,>=0.4.0 in ./.venv/lib/python3.13/site-packages (from langchain-community) (0.4.0)\n",
      "Requirement already satisfied: numpy<3,>=1.26.2 in ./.venv/lib/python3.13/site-packages (from langchain-community) (2.2.4)\n",
      "Requirement already satisfied: scipy>=1.6.0 in ./.venv/lib/python3.13/site-packages (from scikit-learn) (1.15.2)\n",
      "Requirement already satisfied: joblib>=1.2.0 in ./.venv/lib/python3.13/site-packages (from scikit-learn) (1.4.2)\n",
      "Requirement already satisfied: threadpoolctl>=3.1.0 in ./.venv/lib/python3.13/site-packages (from scikit-learn) (3.6.0)\n",
      "Requirement already satisfied: aiosqlite<0.22,>=0.20 in ./.venv/lib/python3.13/site-packages (from langgraph-checkpoint-sqlite) (0.21.0)\n",
      "Requirement already satisfied: aiohappyeyeballs>=2.3.0 in ./.venv/lib/python3.13/site-packages (from aiohttp<4.0.0,>=3.8.3->langchain-community) (2.6.1)\n",
      "Requirement already satisfied: aiosignal>=1.1.2 in ./.venv/lib/python3.13/site-packages (from aiohttp<4.0.0,>=3.8.3->langchain-community) (1.3.2)\n",
      "Requirement already satisfied: attrs>=17.3.0 in ./.venv/lib/python3.13/site-packages (from aiohttp<4.0.0,>=3.8.3->langchain-community) (25.3.0)\n",
      "Requirement already satisfied: frozenlist>=1.1.1 in ./.venv/lib/python3.13/site-packages (from aiohttp<4.0.0,>=3.8.3->langchain-community) (1.5.0)\n",
      "Requirement already satisfied: multidict<7.0,>=4.5 in ./.venv/lib/python3.13/site-packages (from aiohttp<4.0.0,>=3.8.3->langchain-community) (6.2.0)\n",
      "Requirement already satisfied: propcache>=0.2.0 in ./.venv/lib/python3.13/site-packages (from aiohttp<4.0.0,>=3.8.3->langchain-community) (0.3.1)\n",
      "Requirement already satisfied: yarl<2.0,>=1.17.0 in ./.venv/lib/python3.13/site-packages (from aiohttp<4.0.0,>=3.8.3->langchain-community) (1.18.3)\n",
      "Requirement already satisfied: typing_extensions>=4.0 in ./.venv/lib/python3.13/site-packages (from aiosqlite<0.22,>=0.20->langgraph-checkpoint-sqlite) (4.13.0)\n",
      "Requirement already satisfied: marshmallow<4.0.0,>=3.18.0 in ./.venv/lib/python3.13/site-packages (from dataclasses-json<0.7,>=0.5.7->langchain-community) (3.26.1)\n",
      "Requirement already satisfied: typing-inspect<1,>=0.4.0 in ./.venv/lib/python3.13/site-packages (from dataclasses-json<0.7,>=0.5.7->langchain-community) (0.9.0)\n",
      "Requirement already satisfied: langchain-text-splitters<1.0.0,>=0.3.7 in ./.venv/lib/python3.13/site-packages (from langchain<1.0.0,>=0.3.21->langchain-community) (0.3.7)\n",
      "Requirement already satisfied: pydantic<3.0.0,>=2.7.4 in ./.venv/lib/python3.13/site-packages (from langchain<1.0.0,>=0.3.21->langchain-community) (2.11.0)\n",
      "Requirement already satisfied: jsonpatch<2.0,>=1.33 in ./.venv/lib/python3.13/site-packages (from langchain-core<0.4,>=0.1->langgraph) (1.33)\n",
      "Requirement already satisfied: packaging<25,>=23.2 in ./.venv/lib/python3.13/site-packages (from langchain-core<0.4,>=0.1->langgraph) (24.2)\n",
      "Requirement already satisfied: ormsgpack<2.0.0,>=1.8.0 in ./.venv/lib/python3.13/site-packages (from langgraph-checkpoint<3.0.0,>=2.0.10->langgraph) (1.9.1)\n",
      "Requirement already satisfied: httpx>=0.25.2 in ./.venv/lib/python3.13/site-packages (from langgraph-sdk<0.2.0,>=0.1.42->langgraph) (0.28.1)\n",
      "Requirement already satisfied: orjson>=3.10.1 in ./.venv/lib/python3.13/site-packages (from langgraph-sdk<0.2.0,>=0.1.42->langgraph) (3.10.16)\n",
      "Requirement already satisfied: requests-toolbelt<2.0.0,>=1.0.0 in ./.venv/lib/python3.13/site-packages (from langsmith<0.4,>=0.1.125->langchain-community) (1.0.0)\n",
      "Requirement already satisfied: zstandard<0.24.0,>=0.23.0 in ./.venv/lib/python3.13/site-packages (from langsmith<0.4,>=0.1.125->langchain-community) (0.23.0)\n",
      "Requirement already satisfied: anyio<5,>=3.5.0 in ./.venv/lib/python3.13/site-packages (from openai<2.0.0,>=1.68.2->langchain-openai) (4.9.0)\n",
      "Requirement already satisfied: distro<2,>=1.7.0 in ./.venv/lib/python3.13/site-packages (from openai<2.0.0,>=1.68.2->langchain-openai) (1.9.0)\n",
      "Requirement already satisfied: jiter<1,>=0.4.0 in ./.venv/lib/python3.13/site-packages (from openai<2.0.0,>=1.68.2->langchain-openai) (0.9.0)\n",
      "Requirement already satisfied: sniffio in ./.venv/lib/python3.13/site-packages (from openai<2.0.0,>=1.68.2->langchain-openai) (1.3.1)\n",
      "Requirement already satisfied: tqdm>4 in ./.venv/lib/python3.13/site-packages (from openai<2.0.0,>=1.68.2->langchain-openai) (4.67.1)\n",
      "Requirement already satisfied: charset-normalizer<4,>=2 in ./.venv/lib/python3.13/site-packages (from requests<3,>=2->langchain-community) (3.4.1)\n",
      "Requirement already satisfied: idna<4,>=2.5 in ./.venv/lib/python3.13/site-packages (from requests<3,>=2->langchain-community) (3.10)\n",
      "Requirement already satisfied: urllib3<3,>=1.21.1 in ./.venv/lib/python3.13/site-packages (from requests<3,>=2->langchain-community) (2.3.0)\n",
      "Requirement already satisfied: certifi>=2017.4.17 in ./.venv/lib/python3.13/site-packages (from requests<3,>=2->langchain-community) (2025.1.31)\n",
      "Requirement already satisfied: regex>=2022.1.18 in ./.venv/lib/python3.13/site-packages (from tiktoken<1,>=0.7->langchain-openai) (2024.11.6)\n",
      "Requirement already satisfied: httpcore==1.* in ./.venv/lib/python3.13/site-packages (from httpx>=0.25.2->langgraph-sdk<0.2.0,>=0.1.42->langgraph) (1.0.7)\n",
      "Requirement already satisfied: h11<0.15,>=0.13 in ./.venv/lib/python3.13/site-packages (from httpcore==1.*->httpx>=0.25.2->langgraph-sdk<0.2.0,>=0.1.42->langgraph) (0.14.0)\n",
      "Requirement already satisfied: jsonpointer>=1.9 in ./.venv/lib/python3.13/site-packages (from jsonpatch<2.0,>=1.33->langchain-core<0.4,>=0.1->langgraph) (3.0.0)\n",
      "Requirement already satisfied: annotated-types>=0.6.0 in ./.venv/lib/python3.13/site-packages (from pydantic<3.0.0,>=2.7.4->langchain<1.0.0,>=0.3.21->langchain-community) (0.7.0)\n",
      "Requirement already satisfied: pydantic-core==2.33.0 in ./.venv/lib/python3.13/site-packages (from pydantic<3.0.0,>=2.7.4->langchain<1.0.0,>=0.3.21->langchain-community) (2.33.0)\n",
      "Requirement already satisfied: typing-inspection>=0.4.0 in ./.venv/lib/python3.13/site-packages (from pydantic<3.0.0,>=2.7.4->langchain<1.0.0,>=0.3.21->langchain-community) (0.4.0)\n",
      "Requirement already satisfied: mypy-extensions>=0.3.0 in ./.venv/lib/python3.13/site-packages (from typing-inspect<1,>=0.4.0->dataclasses-json<0.7,>=0.5.7->langchain-community) (1.0.0)\n",
      "Downloading langgraph-0.3.22-py3-none-any.whl (139 kB)\n",
      "Installing collected packages: langgraph\n",
      "  Attempting uninstall: langgraph\n",
      "    Found existing installation: langgraph 0.3.21\n",
      "    Uninstalling langgraph-0.3.21:\n",
      "      Successfully uninstalled langgraph-0.3.21\n",
      "Successfully installed langgraph-0.3.22\n",
      "\n",
      "\u001b[1m[\u001b[0m\u001b[34;49mnotice\u001b[0m\u001b[1;39;49m]\u001b[0m\u001b[39;49m A new release of pip is available: \u001b[0m\u001b[31;49m24.3.1\u001b[0m\u001b[39;49m -> \u001b[0m\u001b[32;49m25.0.1\u001b[0m\n",
      "\u001b[1m[\u001b[0m\u001b[34;49mnotice\u001b[0m\u001b[1;39;49m]\u001b[0m\u001b[39;49m To update, run: \u001b[0m\u001b[32;49mpip install --upgrade pip\u001b[0m\n",
      "Note: you may need to restart the kernel to use updated packages.\n"
     ]
    }
   ],
   "source": [
    "%pip install -U langgraph langchain-openai langchain-community scikit-learn langgraph-checkpoint-sqlite python-dotenv nest-asyncio asyncio"
   ]
  },
  {
   "cell_type": "code",
   "execution_count": 2,
   "id": "4ae02591-9bca-44d9-9d0c-9e61c4fc7886",
   "metadata": {},
   "outputs": [],
   "source": [
    "# Graph Dependencies\n",
    "import asyncio\n",
    "import nest_asyncio\n",
    "from operator import eq\n",
    "import random\n",
    "from dotenv import load_dotenv\n",
    "from functools import partial\n",
    "from langgraph.checkpoint.sqlite.aio import AsyncSqliteSaver\n",
    "from langgraph.types import Command, Interrupt, interrupt\n",
    "\n",
    "from langchain_openai import ChatOpenAI\n",
    "from langchain_core.messages import AIMessage, HumanMessage, SystemMessage, ToolMessage\n",
    "from langgraph.graph import END, START, StateGraph\n",
    "from langgraph.prebuilt import ToolNode\n",
    "\n",
    "from typing import Annotated\n",
    "from typing_extensions import TypedDict\n",
    "from langgraph.graph.message import add_messages\n",
    "\n",
    "# Database Dependencies\n",
    "from langchain_community.utilities.sql_database import SQLDatabase\n",
    "from langchain_community.vectorstores import SKLearnVectorStore\n",
    "from langchain_openai import OpenAIEmbeddings\n",
    "\n",
    "# Tool Dependencies\n",
    "from typing import Annotated\n",
    "from datetime import datetime\n",
    "from agent.types import State\n",
    "from langchain_core.tools import tool\n",
    "from langgraph.prebuilt import InjectedState\n",
    "from langgraph.types import Command, interrupt\n",
    "from langchain_core.tools.base import InjectedToolCallId\n",
    "from langchain_core.messages import ToolMessage"
   ]
  },
  {
   "cell_type": "markdown",
   "id": "33185605-5d0b-4e6f-89dc-fc01a4743270",
   "metadata": {
    "jp-MarkdownHeadingCollapsed": true
   },
   "source": [
    "### Setup"
   ]
  },
  {
   "cell_type": "code",
   "execution_count": 3,
   "id": "58c8fd46-843c-4bd6-a5f7-2a50676d1b53",
   "metadata": {},
   "outputs": [],
   "source": [
    "load_dotenv()\n",
    "\n",
    "nest_asyncio.apply()"
   ]
  },
  {
   "cell_type": "markdown",
   "id": "f1af3806-7a57-434a-a1e5-0864e28be957",
   "metadata": {
    "jp-MarkdownHeadingCollapsed": true
   },
   "source": [
    "## Load LLM"
   ]
  },
  {
   "cell_type": "code",
   "execution_count": 4,
   "id": "cb8ca15f-f7c4-41fa-bf5a-4dcce62833ea",
   "metadata": {},
   "outputs": [],
   "source": [
    "model = ChatOpenAI(temperature=0, streaming=True, model=\"gpt-4-turbo-preview\")"
   ]
  },
  {
   "cell_type": "markdown",
   "id": "9431e7f1-07fa-49d9-ac45-29613703dcc1",
   "metadata": {
    "jp-MarkdownHeadingCollapsed": true
   },
   "source": [
    "## Load Database and Retrievers"
   ]
  },
  {
   "cell_type": "code",
   "execution_count": 5,
   "id": "61f7ef9c",
   "metadata": {},
   "outputs": [
    {
     "name": "stdout",
     "output_type": "stream",
     "text": [
      "['albums', 'artists', 'customers', 'employees', 'genres', 'invoice_items', 'invoices', 'media_types', 'playlist_track', 'playlists', 'tracks']\n"
     ]
    }
   ],
   "source": [
    "db = SQLDatabase.from_uri(\"sqlite:///chinook.db\")\n",
    "print(db.get_usable_table_names())\n",
    "\n",
    "artists = db._execute(\"select * from artists\")\n",
    "songs = db._execute(\"select * from tracks\")\n",
    "genres = db._execute(\"select * from genres\")\n",
    "\n",
    "artist_retriever = SKLearnVectorStore.from_texts(\n",
    "    [a['Name'] for a in artists],\n",
    "    OpenAIEmbeddings(), \n",
    "    metadatas=artists\n",
    ").as_retriever()\n",
    "song_retriever = SKLearnVectorStore.from_texts(\n",
    "    [a['Name'] for a in songs],\n",
    "    OpenAIEmbeddings(), \n",
    "    metadatas=songs\n",
    ").as_retriever()\n",
    "genre_retriever = SKLearnVectorStore.from_texts(\n",
    "    [a['Name'] for a in genres],\n",
    "    OpenAIEmbeddings(), \n",
    "    metadatas=genres\n",
    ").as_retriever()"
   ]
  },
  {
   "cell_type": "markdown",
   "id": "1cf668e4-8cb4-4de1-bc5e-c90284bf74bc",
   "metadata": {
    "jp-MarkdownHeadingCollapsed": true
   },
   "source": [
    "## Define Tools"
   ]
  },
  {
   "cell_type": "markdown",
   "id": "bf9ec8f7-715b-471b-a1f6-f2619cbf030c",
   "metadata": {},
   "source": [
    "### Define Customer Tools"
   ]
  },
  {
   "cell_type": "code",
   "execution_count": 6,
   "id": "e302dcb5-d6e8-421b-bac9-45970fa69340",
   "metadata": {},
   "outputs": [],
   "source": [
    "@tool\n",
    "def verify_customer_info(customer_id: int, tool_call_id: Annotated[str, InjectedToolCallId] ):\n",
    "    \"\"\"Verify customer info given a provided customer ID.\"\"\"\n",
    "    if customer_id:\n",
    "        customer = db.run(f\"SELECT * FROM customers WHERE CustomerID = {customer_id};\")\n",
    "        human_response = interrupt({\"query\": \"Please enter your first name, last name, and zip code. Please use the format 'First Last Zip'\"})       \n",
    "        parts = human_response[\"data\"].split()\n",
    "        if len(parts) != 3:\n",
    "            tool_message = ToolMessage(\n",
    "                content=\"Invalid format. Please provide your first name, last name, and zip code separated by spaces.\",\n",
    "                tool_call_id=tool_call_id,\n",
    "                name=\"verify_customer_info\",\n",
    "                artifact={\"type\": \"transfer_to_customer\", \"customer_id\": None},\n",
    "            )\n",
    "            return Command(goto='customer', update={\"messages\": [tool_message]})\n",
    "            \n",
    "        first, last, zip = parts\n",
    "        columns = [column.strip(\"'\") for column in customer.split(\", \")]\n",
    "        stored_first = columns[1]\n",
    "        stored_last = columns[2]\n",
    "        stored_zip = columns[8]\n",
    "        \n",
    "        if first == stored_first and last == stored_last and zip == stored_zip:\n",
    "            tool_message = ToolMessage(\n",
    "                content=\"Successfully verified customer information\",\n",
    "                tool_call_id=tool_call_id,\n",
    "                name=\"verify_customer_info\",\n",
    "                artifact={\"type\": \"transfer_to_customer\", \"customer_id\": customer_id},\n",
    "            )\n",
    "            return Command(\n",
    "                goto='customer',\n",
    "                update={\n",
    "                    \"messages\": [tool_message],\n",
    "                    \"customer_id\": customer_id\n",
    "                },\n",
    "            )\n",
    "    tool_message = ToolMessage(\n",
    "        content=\"Failed to verify customer information\",\n",
    "        tool_call_id=tool_call_id,\n",
    "        name=\"verify_customer_info\",\n",
    "        artifact={\"type\": \"transfer_to_customer\", \"customer_id\": None},\n",
    "    )\n",
    "    return Command(goto='customer', update={\"messages\": [tool_message], \"customer_id\": None})\n"
   ]
  },
  {
   "cell_type": "markdown",
   "id": "bee0f591-762d-4bec-b5fa-af587cb2aee4",
   "metadata": {},
   "source": [
    "### Define Music Tools"
   ]
  },
  {
   "cell_type": "code",
   "execution_count": 7,
   "id": "3e8e472f-e20b-4e67-be05-42bad9e6cd20",
   "metadata": {},
   "outputs": [],
   "source": [
    "@tool\n",
    "def check_for_songs(song_title):\n",
    "    \"\"\"Check if a song exists by its name.\"\"\"\n",
    "    return song_retriever.invoke(song_title, k=1)\n",
    "\n",
    "\n",
    "@tool\n",
    "def recommend_songs_by_genre(genre, customer_id: int):\n",
    "    \"\"\"Get songs by a genre (or similar genres) that the customer hasn't already purchased.\"\"\"\n",
    "    if not customer_id:\n",
    "        return \"Error: Customer ID is required to provide personalized recommendations\"\n",
    "    \n",
    "    docs = genre_retriever.invoke(genre, k=2)\n",
    "    genre_ids = \", \".join([str(d.metadata['GenreId']) for d in docs])\n",
    "    \n",
    "    # Query to get tracks by genre that aren't in customer's purchase history\n",
    "    query = \"\"\"\n",
    "        SELECT DISTINCT t.Name as SongName, ar.Name as ArtistName, al.Title as AlbumName, g.Name as GenreName\n",
    "        FROM tracks t\n",
    "        JOIN albums al ON t.AlbumId = al.AlbumId\n",
    "        JOIN artists ar ON al.ArtistId = ar.ArtistId\n",
    "        JOIN genres g ON t.GenreId = g.GenreId\n",
    "        WHERE t.GenreId IN ({})\n",
    "        AND NOT EXISTS (\n",
    "            SELECT 1 \n",
    "            FROM invoice_items ii\n",
    "            JOIN invoices i ON ii.InvoiceId = i.InvoiceId\n",
    "            WHERE ii.TrackId = t.TrackId\n",
    "            AND i.CustomerId = {}\n",
    "        )\n",
    "        ORDER BY RANDOM()\n",
    "        LIMIT 5;\n",
    "    \"\"\".format(genre_ids, customer_id)\n",
    "    \n",
    "    return db.run(query, include_columns=True)"
   ]
  },
  {
   "cell_type": "markdown",
   "id": "9e0ded1e-4775-49ca-ac38-08ba861ba008",
   "metadata": {},
   "source": [
    "### Define Invoice Tools"
   ]
  },
  {
   "cell_type": "code",
   "execution_count": 8,
   "id": "859731b5-8e3c-458d-8d66-7fb07c82e75b",
   "metadata": {},
   "outputs": [],
   "source": [
    "@tool\n",
    "def create_invoice(songs: list[str], customer_id: int, tool_call_id: Annotated[str, InjectedToolCallId]):\n",
    "    \"\"\"Create a new invoice for the given songs and customer.\n",
    "    Args:\n",
    "        songs: List of song names to purchase\n",
    "        customer_id: ID of the customer making the purchase\n",
    "    \"\"\"\n",
    "    if not customer_id:\n",
    "        return \"Error: Customer ID is required to create an invoice\"\n",
    "    if not songs:\n",
    "        return \"Error: No songs provided for invoice\"\n",
    "    \n",
    "    # Find track IDs for the songs\n",
    "    tracks = []\n",
    "    for song in songs:\n",
    "        # Get exact or similar matches for the song\n",
    "        matches = song_retriever.invoke(song, k=1)\n",
    "        if matches:\n",
    "            # Get track info\n",
    "            track_query = \"\"\"\n",
    "                SELECT TrackId, Name, UnitPrice \n",
    "                FROM tracks \n",
    "                WHERE TrackId = {};\n",
    "            \"\"\".format(matches[0].metadata['TrackId'])\n",
    "            track = db.run(track_query, include_columns=True)\n",
    "            columns = track.split(\", \")\n",
    "            track_id = columns[0].split(\": \")[1]\n",
    "            track_name = columns[1].split(\": \")[1].strip(\"'\")\n",
    "            price = columns[2].split(\": \")[1].strip(\"}]\")\n",
    "            if track:\n",
    "                tracks.append((track_id, track_name, price))\n",
    "    \n",
    "    if not tracks:\n",
    "        return \"Error: No matching tracks found for the provided songs\"\n",
    "    \n",
    "    human_response = interrupt(\n",
    "        {\"query\": \"You will be purchasing the following songs: {} \\nPlease confirm by typing 'yes' or 'no'\".format([track[1] for track in tracks])}\n",
    "    )       \n",
    "    response = human_response[\"data\"]\n",
    "    if response.lower() != \"yes\":\n",
    "        tool_message = ToolMessage(\n",
    "            content=\"Transaction cancelled by customer\",\n",
    "            tool_call_id=tool_call_id,\n",
    "            name=\"create_invoice\",\n",
    "            artifact={\"type\": \"transfer_to_invoice\", \"invoice_id\": None},\n",
    "        )\n",
    "        Command(goto='invoice', update={\"messages\": [tool_message]})\n",
    "\n",
    "    try:\n",
    "        # Create new invoice\n",
    "        invoice_date = datetime.now().strftime('%Y-%m-%d %H:%M:%S')\n",
    "        invoice_query = \"\"\"\n",
    "            INSERT INTO invoices (CustomerId, InvoiceDate, Total)\n",
    "            VALUES ({}, '{}', {})\n",
    "            RETURNING InvoiceId;\n",
    "        \"\"\".format(customer_id, invoice_date, sum(float(price) for _, _, price in tracks))\n",
    "        invoice_id = db.run(invoice_query, include_columns=True)\n",
    "        invoice_id = invoice_id.split(\": \")[1].strip(\"}]\")\n",
    "        \n",
    "        # Add invoice lines\n",
    "        for track_id, _, unit_price in tracks:\n",
    "            line_query = \"\"\"\n",
    "                INSERT INTO invoice_items (InvoiceId, TrackId, UnitPrice, Quantity)\n",
    "                VALUES ({}, {}, {}, 1);\n",
    "            \"\"\".format(invoice_id, track_id, unit_price)\n",
    "            db.run(line_query)\n",
    "        \n",
    "        # Get invoice details for confirmation\n",
    "        details_query = \"\"\"\n",
    "            SELECT t.Name as SongName, i.UnitPrice, inv.InvoiceDate\n",
    "            FROM invoice_items i\n",
    "            JOIN tracks t ON i.TrackId = t.TrackId\n",
    "            JOIN invoices inv ON i.InvoiceId = inv.InvoiceId\n",
    "            WHERE inv.InvoiceId = {};\n",
    "        \"\"\".format(invoice_id)\n",
    "        details = db.run(details_query, include_columns=True)\n",
    "        rows = details.split(\"}, {\")\n",
    "        if (len(rows) == len(songs)):\n",
    "            tool_message = ToolMessage(\n",
    "                content=\"Transaction successfully completed!\",\n",
    "                tool_call_id=tool_call_id,\n",
    "                artifact={\"type\": \"transfer_to_sales\", \"invoice_id\": invoice_id},\n",
    "                name=\"create_invoice\"\n",
    "            )\n",
    "            return Command(goto='sales', update={\"messages\": [tool_message]})\n",
    "        tool_message = ToolMessage(\n",
    "            content=\"Transaction encountered error\",\n",
    "            tool_call_id=tool_call_id,\n",
    "            artifact={\"type\": \"transfer_to_invoice\", \"invoice_id\": None},\n",
    "            name=\"create_invoice\",\n",
    "        )\n",
    "        return Command(goto='invoice', update={\"messages\": [tool_message]})\n",
    "    except Exception as e:\n",
    "        return f\"Error creating invoice: {str(e)}\"\n"
   ]
  },
  {
   "cell_type": "markdown",
   "id": "75466e1a-83fa-4108-9cc8-43f0ac701190",
   "metadata": {},
   "source": [
    "### Define Sales Tools"
   ]
  },
  {
   "cell_type": "code",
   "execution_count": 9,
   "id": "8c829e12-9629-41b5-88cb-3fb4bdbf0f5a",
   "metadata": {},
   "outputs": [],
   "source": [
    "@tool\n",
    "def check_upsell_eligibility(customer_id: int):\n",
    "    \"\"\"Check if the customer meets the conditions to upsell:\n",
    "    - Has made at least one purchase above $5, OR\n",
    "    - Has only made one purchase total\n",
    "    \"\"\"\n",
    "    if not customer_id:\n",
    "        return \"Error: Customer ID is required\"\n",
    "    \n",
    "    query = \"\"\"\n",
    "        SELECT COUNT(*) as total_purchases, MAX(Total) as highest_purchase\n",
    "        FROM invoices\n",
    "        WHERE CustomerId = {} AND Total > 0\n",
    "    \"\"\".format(customer_id)\n",
    "        \n",
    "    result = db.run(query, include_columns=True)\n",
    "    fragments = result.split(\", \")\n",
    "    total_purchases = fragments[0].split(\": \")[1]\n",
    "    highest_purchase = fragments[1].split(\": \")[1].strip(\"}]\")\n",
    "    if int(total_purchases) != 1 and float(highest_purchase) < 5:\n",
    "        return False\n",
    "    return True\n",
    "\n",
    "@tool\n",
    "def get_recommended_upsells(customer_id: int, tool_call_id: Annotated[str, InjectedToolCallId]):\n",
    "    \"\"\"Get recommended upsells based on customer's most recent invoice's most common genre.\n",
    "    Args:\n",
    "        customer_id: ID of the customer to get recommendations for\n",
    "    Returns:\n",
    "        The most common genre in the customer's most recent invoice\n",
    "    \"\"\"\n",
    "    query = \"\"\"\n",
    "        WITH LastInvoice AS (\n",
    "            SELECT InvoiceId\n",
    "            FROM invoices\n",
    "            WHERE CustomerId = {}\n",
    "            ORDER BY InvoiceDate DESC\n",
    "            LIMIT 1\n",
    "        ),\n",
    "        GenreCounts AS (\n",
    "            SELECT g.Name as GenreName, COUNT(*) as GenreCount\n",
    "            FROM LastInvoice li\n",
    "            JOIN invoice_items ii ON li.InvoiceId = ii.InvoiceId\n",
    "            JOIN tracks t ON ii.TrackId = t.TrackId\n",
    "            JOIN genres g ON t.GenreId = g.GenreId\n",
    "            GROUP BY g.GenreId, g.Name\n",
    "            ORDER BY GenreCount DESC\n",
    "            LIMIT 1\n",
    "        )\n",
    "        SELECT GenreName, GenreCount\n",
    "        FROM GenreCounts;\n",
    "    \"\"\".format(customer_id)\n",
    "    \n",
    "    result = db.run(query, include_columns=True)\n",
    "    if result:\n",
    "        # Result will be in format: \"[{'GenreName': 'Rock', 'GenreCount': 3}]\"\n",
    "        genre = result.split(\"'\")[3] if \"'\" in result else None\n",
    "        \n",
    "        tool_message = ToolMessage(\n",
    "            content=f\"Recommended genre for customer {customer_id}: {genre}. Handing off to music agent for recommendations\",\n",
    "            tool_call_id=tool_call_id,\n",
    "            name=\"get_recommended_upsells\",\n",
    "            artifact={\"type\": \"transfer_to_music\", \"genre\": genre},\n",
    "        )\n",
    "        return Command(\n",
    "            goto='music',\n",
    "            update={ \"messages\": [tool_message]},\n",
    "        )\n",
    "    tool_message = ToolMessage(\n",
    "        content=f\"No recommended genres found for customer {customer_id}. Handing back to sales to reject upsell.\",\n",
    "        tool_call_id=tool_call_id,\n",
    "        name=\"get_recommended_upsells\",\n",
    "        artifact={\"type\": \"transfer_to_sales\", \"genre\": None},\n",
    "    )\n",
    "    return Command(\n",
    "        goto='sales',\n",
    "        update={ \"messages\": [tool_message]},\n",
    "    )\n",
    "\n",
    "@tool\n",
    "def finalize_upsell_decision(upsell: bool, song: str | None, tool_call_id: Annotated[str, InjectedToolCallId]):\n",
    "    \"\"\"Finalize whether or not to upsell the customer. Song must be provided if upselling - if it is not, no upsell will be made\"\"\"\n",
    "    message = \"No, do not upsell\"\n",
    "    if upsell and song is not None:\n",
    "        message = \"Yes, upsell {}\".format(song)\n",
    "    \n",
    "    tool_message = ToolMessage(\n",
    "        content=message,\n",
    "        tool_call_id=tool_call_id,\n",
    "        name=\"finalize_upsell_decision\",\n",
    "        artifact={\"type\": \"transfer_to_invoice\", \"song\": song},\n",
    "    )\n",
    "    return Command(\n",
    "        goto='invoice',\n",
    "        update={ \"messages\": [tool_message]},\n",
    "    )\n"
   ]
  },
  {
   "cell_type": "markdown",
   "id": "8d36f56a-247f-4d46-931f-2066b672b6d5",
   "metadata": {},
   "source": [
    "### Define Handoff Tools"
   ]
  },
  {
   "cell_type": "code",
   "execution_count": 10,
   "id": "631d4d1f-4058-4b09-b56f-2ae393d27544",
   "metadata": {},
   "outputs": [],
   "source": [
    "def make_handoff_tool(*, agent_name: str):\n",
    "    \"\"\"Create a tool that can return handoff via a Command\"\"\"\n",
    "    tool_name = f\"transfer_to_{agent_name}\"\n",
    "\n",
    "    @tool(tool_name)\n",
    "    def handoff(\n",
    "        tool_call_id: Annotated[str, InjectedToolCallId],\n",
    "    ):\n",
    "        \"\"\"Ask another agent for help.\"\"\"\n",
    "        tool_message = ToolMessage(\n",
    "            content=f\"Successfully transferred to {agent_name}\",\n",
    "            name=tool_name,\n",
    "            tool_call_id=tool_call_id,\n",
    "            artifact={\"type\": \"transfer_to_\" + agent_name},\n",
    "        )\n",
    "        return Command(\n",
    "            goto=agent_name,\n",
    "            update={\"messages\": [tool_message]},\n",
    "        )\n",
    "    return handoff\n",
    "\n",
    "invoice_handoff = make_handoff_tool(agent_name=\"invoice\")\n",
    "music_handoff = make_handoff_tool(agent_name=\"music\")"
   ]
  },
  {
   "cell_type": "markdown",
   "id": "1cf89f6b-a90b-45fb-a4b0-cd2e22731398",
   "metadata": {
    "jp-MarkdownHeadingCollapsed": true
   },
   "source": [
    "## Nodes"
   ]
  },
  {
   "cell_type": "markdown",
   "id": "1e1ff3c3-6023-45fb-94c9-6feaae5d634d",
   "metadata": {},
   "source": [
    "### Define Helpers"
   ]
  },
  {
   "cell_type": "code",
   "execution_count": 11,
   "id": "6076ab76-07e6-4407-92aa-4260fc171df0",
   "metadata": {},
   "outputs": [],
   "source": [
    "def _get_last_ai_message(messages):\n",
    "    for m in messages[::-1]:\n",
    "        if isinstance(m, AIMessage):\n",
    "            return m\n",
    "    return None\n",
    "\n",
    "def _is_tool_call(msg):\n",
    "    return hasattr(msg, \"additional_kwargs\") and 'tool_calls' in msg.additional_kwargs\n",
    "\n",
    "def _get_tools_called(msg) -> list[str]:\n",
    "    calls = []\n",
    "    for call in msg.additional_kwargs[\"tool_calls\"]:\n",
    "        calls.append(call[\"function\"][\"name\"])\n",
    "    return calls\n",
    "\n",
    "def _is_internal_transfer(msg):\n",
    "    return isinstance(msg, ToolMessage) and hasattr(msg, \"artifact\") and \\\n",
    "        msg.artifact and \"type\" in msg.artifact and \\\n",
    "        msg.artifact[\"type\"].startswith(\"transfer_to\")\n",
    "\n",
    "def _get_internal_transfer_source(messages, agent_name):\n",
    "    for m in messages[::-1]:\n",
    "        if isinstance(m, HumanMessage):\n",
    "            return None\n",
    "        if isinstance(m, AIMessage):\n",
    "            if m.name != agent_name:\n",
    "                return m.name\n",
    "    return None"
   ]
  },
  {
   "cell_type": "markdown",
   "id": "dbb7d706-ff63-4533-980f-28c74d4d7769",
   "metadata": {},
   "source": [
    "### Define Main Nodes"
   ]
  },
  {
   "cell_type": "code",
   "execution_count": 12,
   "id": "37525033-6a75-43ff-82a2-728d10ddb6a3",
   "metadata": {},
   "outputs": [],
   "source": [
    "# Helper to specify which node is returning a response\n",
    "def add_name(message, name):\n",
    "    _dict = message.model_dump()\n",
    "    _dict[\"name\"] = name\n",
    "    return AIMessage(**_dict)\n",
    "\n",
    "\n",
    "async def customer_node(state: State):\n",
    "    customer_prompt = \"\"\"Your job is to help as a customer service representative for a music store.\n",
    "    \n",
    "    You should interact politely with customers to try to figure out how you can help. You can help in a few ways:\n",
    "    - Identifying the user: you MUST obtain and the customer's ID and verify their identity before helping them.\n",
    "    - Buying or refunding: if a customer wants make a new invoice, or refund an invoice. Handoff to the invoice agent `invoice`\n",
    "    - Recomending music: if a customer wants to find some music or information about music. Handoff to the music agent `music`\n",
    "\n",
    "    If the user is asking about music and has verified their customer ID, send them to that route.\n",
    "    If the user is asking about invoices and has verified their customer ID, send them to that route.\n",
    "    Otherwise, respond.\"\"\"\n",
    "    \n",
    "    formatted = [SystemMessage(content=customer_prompt)] + state[\"messages\"]\n",
    "    \n",
    "    chain = model.bind_tools([\n",
    "        verify_customer_info,\n",
    "        music_handoff,\n",
    "        invoice_handoff,\n",
    "    ]) | partial(add_name, name=\"customer\")\n",
    "    response = await chain.ainvoke(formatted)\n",
    "    return {\"messages\": [response]}\n",
    "\n",
    "\n",
    "async def music_node(state: State):\n",
    "    song_system_message = \"\"\"Your job is to recommend songs. Requests may come directly from a customer, or on their behalf by another AI agent.\n",
    "    \n",
    "    You have tools available to help recommend songs. You can: \n",
    "    - Check if a song exists\n",
    "    - Recommend songs based on genre\n",
    "\n",
    "    IMPORTANT: If you do not have the customer's ID, or \\\n",
    "    the customer asks for ANYTHING not related to music recommendations, \\\n",
    "    respond that you need to transfer the customer to the customer agent.\n",
    "\n",
    "    When recommending songs based on genre, sometimes the genre will not be found. In that case, the tools will return information \\\n",
    "    on simliar songs and artists. This is intentional, it IS NOT the tool messing up.\n",
    "    \"\"\"\n",
    "    \n",
    "    formatted = [SystemMessage(content=song_system_message)] + state[\"messages\"]\n",
    "\n",
    "    tool_choice = \"auto\"\n",
    "    if _is_internal_transfer(state[\"messages\"][-1]):\n",
    "        transfer_node = _get_internal_transfer_source(state[\"messages\"], \"music\")\n",
    "        if transfer_node and transfer_node != \"customer\":\n",
    "            tool_choice = \"any\"\n",
    "\n",
    "    chain = model.bind_tools([\n",
    "        recommend_songs_by_genre, \n",
    "        check_for_songs,\n",
    "    ], tool_choice=tool_choice) | partial(add_name, name=\"music\")\n",
    "    response = await chain.ainvoke(formatted)\n",
    "    return {\"messages\": [response]}\n",
    "\n",
    "\n",
    "async def invoice_node(state: State):\n",
    "    invoice_prompt = \"\"\"Your job is to help a customer with anything related to invoices or billing. \n",
    "    \n",
    "    You have tools available to help take actions on invoices. You can:\n",
    "    - Make a new invoice, which represents selling one or more songs to a customer\n",
    "    \n",
    "    IMPORTANT: If you do not have the customer's ID, or \\\n",
    "    the customer asks for ANYTHING you cannot accomplish with your tools, \\\n",
    "    respond that you need to transfer the customer to the customer agent.\n",
    "\n",
    "    IMPORTANT: If you are making a new invoice as a result of an upsell, you should tell the customer that you \\\n",
    "    have found additional songs they may like. NEVER use the word \"upsell\" in your response, instead use language like \"I \\\n",
    "    have found some songs that I think you might like\".\n",
    "    \"\"\"\n",
    "    \n",
    "    formatted = [SystemMessage(content=invoice_prompt)] + state[\"messages\"]\n",
    "    \n",
    "    # Get response from model\n",
    "    chain = model.bind_tools([\n",
    "        create_invoice,\n",
    "    ]) | partial(add_name, name=\"invoice\")\n",
    "    response = await chain.ainvoke(formatted)\n",
    "    return {\"messages\": [response]}\n",
    "\n",
    "\n",
    "async def sales_node(state: State):\n",
    "    sales_prompt = \"\"\"Your job is to determine whether to sell \\\n",
    "    additional songs (upsell) to the customer after a purchase.\n",
    "    \n",
    "    You must call one of the following tools:\n",
    "    - Check customer eligibility for upselling. \n",
    "    - Get recommended songs to upsell. This will handoff to the music agent.\n",
    "    - Finalize decision on whether or not to upsell. This will handoff to the invoice agent.\n",
    "    \n",
    "    IMPORTANT: You should only upsell to each customer ONCE per session.\n",
    "    \"\"\"\n",
    "    formatted = [SystemMessage(content=sales_prompt)] + state[\"messages\"]\n",
    "    \n",
    "    # Get response from model\n",
    "    chain = model.bind_tools([\n",
    "        check_upsell_eligibility,\n",
    "        get_recommended_upsells,\n",
    "        finalize_upsell_decision,\n",
    "    ], tool_choice=\"any\") | partial(add_name, name=\"sales\")\n",
    "    response = await chain.ainvoke(formatted)\n",
    "    return {\"messages\": [response]}"
   ]
  },
  {
   "cell_type": "markdown",
   "id": "84c53156-8832-4027-bb93-0e73a4665d4f",
   "metadata": {},
   "source": [
    "### Define Tool Nodes"
   ]
  },
  {
   "cell_type": "code",
   "execution_count": 13,
   "id": "fa7dd59d-688d-4863-a775-f99af26c71cf",
   "metadata": {},
   "outputs": [],
   "source": [
    "# Define available tools\n",
    "customer_tools = [verify_customer_info]\n",
    "customer_tool_node = ToolNode(tools=customer_tools)\n",
    "\n",
    "music_tools = [recommend_songs_by_genre, check_for_songs]\n",
    "music_tool_node = ToolNode(tools=music_tools)\n",
    "\n",
    "invoice_tools = [create_invoice]\n",
    "invoice_tool_node = ToolNode(tools=invoice_tools)\n",
    "\n",
    "sales_tools = [check_upsell_eligibility, get_recommended_upsells, finalize_upsell_decision]\n",
    "sales_tool_node = ToolNode(tools=sales_tools)\n",
    "\n",
    "handoff_tools = [music_handoff, invoice_handoff]\n",
    "handoff_tool_node = ToolNode(tools=handoff_tools)"
   ]
  },
  {
   "cell_type": "markdown",
   "id": "f136bafc-5004-4254-b9f1-dab7fc8917ad",
   "metadata": {
    "jp-MarkdownHeadingCollapsed": true
   },
   "source": [
    "## Routing"
   ]
  },
  {
   "cell_type": "markdown",
   "id": "014edfce-da9d-4b0d-9bea-95cfdd95d2a3",
   "metadata": {},
   "source": [
    "### Define Routes"
   ]
  },
  {
   "cell_type": "code",
   "execution_count": 14,
   "id": "3d222668-9a71-43ea-89b7-065b96c14d67",
   "metadata": {},
   "outputs": [],
   "source": [
    "def customer_route(state: State):\n",
    "    messages = state[\"messages\"]\n",
    "    last_ai_message = _get_last_ai_message(messages)\n",
    "    if last_ai_message is None:\n",
    "        return \"customer\"\n",
    "    if not _is_tool_call(last_ai_message):\n",
    "        return END\n",
    "    else:\n",
    "        calls = _get_tools_called(last_ai_message)\n",
    "        transfers = [call for call in calls if call.startswith(\"transfer_to_\")]\n",
    "        if len(transfers) != 0 and len(transfers) != 1:\n",
    "            raise ValueError(\"Multiple transfers in a single tool call\")\n",
    "        if len(transfers) == 1:\n",
    "            return \"handoff_tools\"\n",
    "        if len(transfers) == 0:\n",
    "            return \"customer_tools\"\n",
    "\n",
    "def customer_tools_route(state: State):\n",
    "    return \"customer\"\n",
    "    \n",
    "def music_route(state: State):\n",
    "    messages = state[\"messages\"]\n",
    "    last_ai_message = _get_last_ai_message(messages)\n",
    "    if last_ai_message is None:\n",
    "        return END\n",
    "    if not _is_tool_call(last_ai_message):\n",
    "        return END\n",
    "    else:\n",
    "        return \"music_tools\"\n",
    "\n",
    "def music_tools_route(state: State):\n",
    "    messages = state[\"messages\"]\n",
    "    transfer_node = _get_internal_transfer_source(messages, \"music\")\n",
    "    if transfer_node and transfer_node != \"customer\":\n",
    "        return transfer_node\n",
    "    return \"music\"\n",
    "\n",
    "def invoice_route(state: State):\n",
    "    messages = state[\"messages\"]\n",
    "    last_ai_message = _get_last_ai_message(messages)\n",
    "    if last_ai_message is None:\n",
    "        return END\n",
    "    if not _is_tool_call(last_ai_message):\n",
    "        return END\n",
    "    else:\n",
    "        return \"invoice_tools\"\n",
    "\n",
    "def invoice_tools_route(state: State):\n",
    "    messages = state[\"messages\"]\n",
    "    last_message = messages[-1]\n",
    "    if _is_internal_transfer(last_message):\n",
    "        return last_message.artifact[\"type\"][12:] # parse out transfer_to_ prefix\n",
    "    return \"invoice\"\n",
    "\n",
    "def sales_route(state: State):\n",
    "    return \"sales_tools\"\n",
    "\n",
    "def sales_tools_route(state: State):\n",
    "    messages = state[\"messages\"]\n",
    "    last_message = messages[-1]\n",
    "    if _is_internal_transfer(last_message):\n",
    "        return last_message.artifact[\"type\"][12:] # parse out transfer_to_ prefix\n",
    "    return \"sales\"\n",
    "\n",
    "def handoff_tools_route(state: State):\n",
    "    messages = state[\"messages\"]\n",
    "    last_message = messages[-1]\n",
    "    if _is_internal_transfer(last_message):\n",
    "        return last_message.artifact[\"type\"][12:] # parse out transfer_to_ prefix\n",
    "    return \"customer\""
   ]
  },
  {
   "cell_type": "markdown",
   "id": "73907422-7e05-431e-b06d-256c9ec1f6f6",
   "metadata": {
    "jp-MarkdownHeadingCollapsed": true
   },
   "source": [
    "## Create Graph"
   ]
  },
  {
   "cell_type": "code",
   "execution_count": 15,
   "id": "ea958e9f-ab1f-49b5-bd85-16332055297c",
   "metadata": {},
   "outputs": [],
   "source": [
    "def make_graph(memory):\n",
    "    \"\"\"Create the graph.\"\"\"\n",
    "    workflow = StateGraph(State)\n",
    "\n",
    "    # Add the nodes\n",
    "    workflow.add_node(\"customer\", customer_node)\n",
    "    workflow.add_node(\"music\", music_node)\n",
    "    workflow.add_node(\"invoice\", invoice_node)\n",
    "    workflow.add_node(\"sales\", sales_node)\n",
    "\n",
    "    workflow.add_node(\"customer_tools\", customer_tool_node)\n",
    "    workflow.add_node(\"music_tools\", music_tool_node)\n",
    "    workflow.add_node(\"invoice_tools\", invoice_tool_node)\n",
    "    workflow.add_node(\"sales_tools\", sales_tool_node)\n",
    "    workflow.add_node(\"handoff_tools\", handoff_tool_node)\n",
    "\n",
    "    workflow.add_conditional_edges(\"customer\", customer_route, \n",
    "        {\"customer\": \"customer\", \"customer_tools\": \"customer_tools\",\n",
    "         \"handoff_tools\": \"handoff_tools\", END: END})\n",
    "    workflow.add_conditional_edges(\"music\", music_route, {\"music_tools\": \"music_tools\", END: END})\n",
    "    workflow.add_conditional_edges(\"invoice\", invoice_route, {\"invoice_tools\": \"invoice_tools\", END: END})\n",
    "    workflow.add_conditional_edges(\"sales\", sales_route, {\"sales_tools\": \"sales_tools\"})\n",
    "\n",
    "    workflow.add_conditional_edges(\"customer_tools\", customer_tools_route, {\"customer\": \"customer\"})\n",
    "    workflow.add_conditional_edges(\"music_tools\", music_tools_route, {\"music\": \"music\", \"sales\": \"sales\"})\n",
    "    workflow.add_conditional_edges(\"invoice_tools\", invoice_tools_route, {\"invoice\": \"invoice\", \"sales\": \"sales\"})\n",
    "    workflow.add_conditional_edges(\"sales_tools\", sales_tools_route, {\"sales\": \"sales\", \"music\": \"music\", \"invoice\": \"invoice\"})\n",
    "    workflow.add_conditional_edges(\"handoff_tools\", handoff_tools_route, {\"customer\": \"customer\", \"music\": \"music\", \"invoice\": \"invoice\"})\n",
    "\n",
    "    workflow.set_entry_point(\"customer\")\n",
    "    return workflow.compile(checkpointer=memory)"
   ]
  },
  {
   "cell_type": "markdown",
   "id": "35271d4d-2a1c-41be-9359-a3a7c3fed3d9",
   "metadata": {
    "jp-MarkdownHeadingCollapsed": true
   },
   "source": [
    "## Create Run Functions"
   ]
  },
  {
   "cell_type": "code",
   "execution_count": 16,
   "id": "975b039a",
   "metadata": {},
   "outputs": [],
   "source": [
    "def print_messages(response):\n",
    "    if isinstance(response, tuple) and isinstance(response[0], Interrupt):\n",
    "        message = response[0].value[\"query\"]\n",
    "        if message:\n",
    "            print(\"AI: \" + message)\n",
    "    elif isinstance(response, dict) and \"messages\" in response:\n",
    "        messages = response[\"messages\"]\n",
    "        for message in messages:\n",
    "            if isinstance(message, AIMessage) and message.content:\n",
    "                print(f\"{message.name.upper()} AI: {message.content}\")\n",
    "            if isinstance(message, ToolMessage):\n",
    "                print(f\"Tool called: {message.name}\")\n",
    "\n",
    "async def run(graph: StateGraph):\n",
    "    state: State = {\n",
    "        \"messages\": [],\n",
    "        \"customer_id\": None\n",
    "    }\n",
    "\n",
    "    thread_id = random.randint(0, 1000000)\n",
    "    config = {\n",
    "        \"configurable\": {\n",
    "            \"thread_id\": str(thread_id),\n",
    "            \"checkpoint_ns\": \"music_store\",\n",
    "        }\n",
    "    }\n",
    "    interrupted = False\n",
    "    while True:\n",
    "        user = input('User (q to quit): ')\n",
    "        if user in {'q', 'Q'}:\n",
    "            print('AI: Goodbye!')\n",
    "            break\n",
    "        \n",
    "        if interrupted:\n",
    "            turn_input = Command(resume={\"data\": user})\n",
    "            interrupted = False\n",
    "        else:\n",
    "            # Add user message to state\n",
    "            state[\"messages\"].append(HumanMessage(content=user))\n",
    "            turn_input = state\n",
    "        try:\n",
    "            # Stream responses\n",
    "            async for output in graph.astream(turn_input, config):\n",
    "                if END in output or START in output:\n",
    "                    continue\n",
    "                # Print any node outputs\n",
    "                for key, value in output.items():\n",
    "                    print_messages(value)\n",
    "                    # print(\"----\")\n",
    "                    # print(key)\n",
    "                    # print(value)\n",
    "\n",
    "                    if key == \"__interrupt__\":\n",
    "                        interrupted = True\n",
    "        except Exception as e:\n",
    "            print(f\"Error: {str(e)}\")\n",
    "            raise e\n",
    "\n",
    "async def main():\n",
    "    async with AsyncSqliteSaver.from_conn_string(\":memory:\") as memory:\n",
    "        graph = make_graph(memory)\n",
    "        await run(graph)"
   ]
  },
  {
   "cell_type": "markdown",
   "id": "b4754fd6-6a60-4783-a97d-3d7e47ea527f",
   "metadata": {},
   "source": [
    "## Use Agent"
   ]
  },
  {
   "cell_type": "code",
   "execution_count": null,
   "id": "1d5fa446",
   "metadata": {},
   "outputs": [
    {
     "name": "stdout",
     "output_type": "stream",
     "text": [
      "User (q to quit):  Hi, can you recommend me some rock songs?\n"
     ]
    },
    {
     "name": "stdout",
     "output_type": "stream",
     "text": [
      "CUSTOMER AI: Of course, I'd be happy to help with that! Before we proceed, could you please provide your customer ID for verification?\n"
     ]
    },
    {
     "name": "stdout",
     "output_type": "stream",
     "text": [
      "User (q to quit):  19\n"
     ]
    },
    {
     "name": "stdout",
     "output_type": "stream",
     "text": [
      "AI: Please enter your first name, last name, and zip code. Please use the format 'First Last Zip'\n"
     ]
    },
    {
     "name": "stdout",
     "output_type": "stream",
     "text": [
      "User (q to quit):  Tim Goyer 95014\n"
     ]
    },
    {
     "name": "stdout",
     "output_type": "stream",
     "text": [
      "Tool called: verify_customer_info\n",
      "Tool called: transfer_to_music\n",
      "Tool called: recommend_songs_by_genre\n",
      "MUSIC AI: Here are some rock songs you might enjoy:\n",
      "\n",
      "1. **Glorified G** by Pearl Jam from the album *Vs.*\n",
      "2. **Ramshackle Man** by Deep Purple from the album *The Battle Rages On*\n",
      "3. **Breathe** by The Cult from the album *Beyond Good And Evil*\n",
      "4. **Dazed And Confused** by Led Zeppelin from the album *BBC Sessions [Disc 2] [Live]*\n",
      "5. **No No No** by Deep Purple from the album *Fireball*\n",
      "\n",
      "Enjoy exploring these tracks!\n"
     ]
    },
    {
     "name": "stdout",
     "output_type": "stream",
     "text": [
      "User (q to quit):  Can you help me buy No No No\n"
     ]
    },
    {
     "name": "stdout",
     "output_type": "stream",
     "text": [
      "Tool called: transfer_to_invoice\n",
      "AI: You will be purchasing the following songs: ['No No No'] \n",
      "Please confirm by typing 'yes' or 'no'\n"
     ]
    },
    {
     "name": "stdout",
     "output_type": "stream",
     "text": [
      "User (q to quit):  yes\n"
     ]
    },
    {
     "name": "stdout",
     "output_type": "stream",
     "text": [
      "Tool called: create_invoice\n"
     ]
    },
    {
     "name": "stdout",
     "output_type": "stream",
     "text": [
      "CUSTOMER AI: Of course, I'd be happy to help you with that! Before we proceed, could you please provide me with your customer ID for verification purposes?\n"
     ]
    },
    {
     "name": "stdout",
     "output_type": "stream",
     "text": [
      "User (q to quit):  19\n"
     ]
    },
    {
     "name": "stdout",
     "output_type": "stream",
     "text": [
      "AI: Please enter your first name, last name, and zip code. Please use the format 'First Last Zip'\n"
     ]
    },
    {
     "name": "stdout",
     "output_type": "stream",
     "text": [
      "User (q to quit):  Tim Goyer 95014\n"
     ]
    },
    {
     "name": "stdout",
     "output_type": "stream",
     "text": [
      "Tool called: verify_customer_info\n",
      "Tool called: transfer_to_invoice\n",
      "AI: You will be purchasing the following songs: ['Thumbing My Way'] \n",
      "Please confirm by typing 'yes' or 'no'\n"
     ]
    },
    {
     "name": "stdout",
     "output_type": "stream",
     "text": [
      "User (q to quit):  yes\n"
     ]
    },
    {
     "name": "stdout",
     "output_type": "stream",
     "text": [
      "Tool called: create_invoice\n",
      "Tool called: check_upsell_eligibility\n",
      "Tool called: get_recommended_upsells\n",
      "Tool called: recommend_songs_by_genre\n",
      "Tool called: finalize_upsell_decision\n",
      "INVOICE AI: I've found some songs that I think you might like, especially if you're a fan of rock music. One song that stands out is \"Futureal\" by Iron Maiden. Would you be interested in adding this song to your purchase today?\n"
     ]
    },
    {
     "name": "stdout",
     "output_type": "stream",
     "text": [
      "User (q to quit):  yes!\n"
     ]
    },
    {
     "name": "stdout",
     "output_type": "stream",
     "text": [
      "Tool called: transfer_to_invoice\n",
      "AI: You will be purchasing the following songs: ['Futureal'] \n",
      "Please confirm by typing 'yes' or 'no'\n"
     ]
    },
    {
     "name": "stdout",
     "output_type": "stream",
     "text": [
      "User (q to quit):  yes\n"
     ]
    },
    {
     "name": "stdout",
     "output_type": "stream",
     "text": [
      "Tool called: create_invoice\n",
      "Tool called: finalize_upsell_decision\n",
      "INVOICE AI: Great choice! \"Futureal\" by Iron Maiden has been successfully added to your purchase. If there's anything else you need, feel free to ask!\n"
     ]
    },
    {
     "name": "stdout",
     "output_type": "stream",
     "text": [
      "User (q to quit):  q\n"
     ]
    },
    {
     "name": "stdout",
     "output_type": "stream",
     "text": [
      "AI: Goodbye!\n"
     ]
    }
   ],
   "source": [
    "asyncio.run(main())"
   ]
  }
 ],
 "metadata": {
  "kernelspec": {
   "display_name": "Python 3 (ipykernel)",
   "language": "python",
   "name": "python3"
  },
  "language_info": {
   "codemirror_mode": {
    "name": "ipython",
    "version": 3
   },
   "file_extension": ".py",
   "mimetype": "text/x-python",
   "name": "python",
   "nbconvert_exporter": "python",
   "pygments_lexer": "ipython3",
   "version": "3.13.1"
  }
 },
 "nbformat": 4,
 "nbformat_minor": 5
}
